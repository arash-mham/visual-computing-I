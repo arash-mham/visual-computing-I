{
  "nbformat": 4,
  "nbformat_minor": 0,
  "metadata": {
    "colab": {
      "provenance": [],
      "collapsed_sections": []
    },
    "kernelspec": {
      "name": "python3",
      "display_name": "Python 3"
    },
    "language_info": {
      "name": "python"
    },
    "accelerator": "GPU",
    "gpuClass": "standard",
    "widgets": {
      "application/vnd.jupyter.widget-state+json": {
        "11021f2d4d894f38847039340b026ca9": {
          "model_module": "@jupyter-widgets/controls",
          "model_name": "HBoxModel",
          "model_module_version": "1.5.0",
          "state": {
            "_dom_classes": [],
            "_model_module": "@jupyter-widgets/controls",
            "_model_module_version": "1.5.0",
            "_model_name": "HBoxModel",
            "_view_count": null,
            "_view_module": "@jupyter-widgets/controls",
            "_view_module_version": "1.5.0",
            "_view_name": "HBoxView",
            "box_style": "",
            "children": [
              "IPY_MODEL_1d23947b345c45bc80ded28057eecdf4",
              "IPY_MODEL_593233746e7040e0b971f971cc11be17",
              "IPY_MODEL_05cff3dc710d49beacadf4e9e86ab188"
            ],
            "layout": "IPY_MODEL_8d541f62b11f4372bb7da7cd976871ea"
          }
        },
        "1d23947b345c45bc80ded28057eecdf4": {
          "model_module": "@jupyter-widgets/controls",
          "model_name": "HTMLModel",
          "model_module_version": "1.5.0",
          "state": {
            "_dom_classes": [],
            "_model_module": "@jupyter-widgets/controls",
            "_model_module_version": "1.5.0",
            "_model_name": "HTMLModel",
            "_view_count": null,
            "_view_module": "@jupyter-widgets/controls",
            "_view_module_version": "1.5.0",
            "_view_name": "HTMLView",
            "description": "",
            "description_tooltip": null,
            "layout": "IPY_MODEL_f70c7f1268dd47a9bf4c758d3704b98e",
            "placeholder": "​",
            "style": "IPY_MODEL_2b8f0901624b448d8c412c370f6bd188",
            "value": "100%"
          }
        },
        "593233746e7040e0b971f971cc11be17": {
          "model_module": "@jupyter-widgets/controls",
          "model_name": "FloatProgressModel",
          "model_module_version": "1.5.0",
          "state": {
            "_dom_classes": [],
            "_model_module": "@jupyter-widgets/controls",
            "_model_module_version": "1.5.0",
            "_model_name": "FloatProgressModel",
            "_view_count": null,
            "_view_module": "@jupyter-widgets/controls",
            "_view_module_version": "1.5.0",
            "_view_name": "ProgressView",
            "bar_style": "success",
            "description": "",
            "description_tooltip": null,
            "layout": "IPY_MODEL_e6cb41e4ff364e3380462a921c8b1e7b",
            "max": 170498071,
            "min": 0,
            "orientation": "horizontal",
            "style": "IPY_MODEL_9f6b96b8c9b34cb486c773c00f70f091",
            "value": 170498071
          }
        },
        "05cff3dc710d49beacadf4e9e86ab188": {
          "model_module": "@jupyter-widgets/controls",
          "model_name": "HTMLModel",
          "model_module_version": "1.5.0",
          "state": {
            "_dom_classes": [],
            "_model_module": "@jupyter-widgets/controls",
            "_model_module_version": "1.5.0",
            "_model_name": "HTMLModel",
            "_view_count": null,
            "_view_module": "@jupyter-widgets/controls",
            "_view_module_version": "1.5.0",
            "_view_name": "HTMLView",
            "description": "",
            "description_tooltip": null,
            "layout": "IPY_MODEL_956069cb1acc44a681556a852d817e3b",
            "placeholder": "​",
            "style": "IPY_MODEL_bcc972c7480749f88b497439e895c823",
            "value": " 170498071/170498071 [00:01&lt;00:00, 114303520.51it/s]"
          }
        },
        "8d541f62b11f4372bb7da7cd976871ea": {
          "model_module": "@jupyter-widgets/base",
          "model_name": "LayoutModel",
          "model_module_version": "1.2.0",
          "state": {
            "_model_module": "@jupyter-widgets/base",
            "_model_module_version": "1.2.0",
            "_model_name": "LayoutModel",
            "_view_count": null,
            "_view_module": "@jupyter-widgets/base",
            "_view_module_version": "1.2.0",
            "_view_name": "LayoutView",
            "align_content": null,
            "align_items": null,
            "align_self": null,
            "border": null,
            "bottom": null,
            "display": null,
            "flex": null,
            "flex_flow": null,
            "grid_area": null,
            "grid_auto_columns": null,
            "grid_auto_flow": null,
            "grid_auto_rows": null,
            "grid_column": null,
            "grid_gap": null,
            "grid_row": null,
            "grid_template_areas": null,
            "grid_template_columns": null,
            "grid_template_rows": null,
            "height": null,
            "justify_content": null,
            "justify_items": null,
            "left": null,
            "margin": null,
            "max_height": null,
            "max_width": null,
            "min_height": null,
            "min_width": null,
            "object_fit": null,
            "object_position": null,
            "order": null,
            "overflow": null,
            "overflow_x": null,
            "overflow_y": null,
            "padding": null,
            "right": null,
            "top": null,
            "visibility": null,
            "width": null
          }
        },
        "f70c7f1268dd47a9bf4c758d3704b98e": {
          "model_module": "@jupyter-widgets/base",
          "model_name": "LayoutModel",
          "model_module_version": "1.2.0",
          "state": {
            "_model_module": "@jupyter-widgets/base",
            "_model_module_version": "1.2.0",
            "_model_name": "LayoutModel",
            "_view_count": null,
            "_view_module": "@jupyter-widgets/base",
            "_view_module_version": "1.2.0",
            "_view_name": "LayoutView",
            "align_content": null,
            "align_items": null,
            "align_self": null,
            "border": null,
            "bottom": null,
            "display": null,
            "flex": null,
            "flex_flow": null,
            "grid_area": null,
            "grid_auto_columns": null,
            "grid_auto_flow": null,
            "grid_auto_rows": null,
            "grid_column": null,
            "grid_gap": null,
            "grid_row": null,
            "grid_template_areas": null,
            "grid_template_columns": null,
            "grid_template_rows": null,
            "height": null,
            "justify_content": null,
            "justify_items": null,
            "left": null,
            "margin": null,
            "max_height": null,
            "max_width": null,
            "min_height": null,
            "min_width": null,
            "object_fit": null,
            "object_position": null,
            "order": null,
            "overflow": null,
            "overflow_x": null,
            "overflow_y": null,
            "padding": null,
            "right": null,
            "top": null,
            "visibility": null,
            "width": null
          }
        },
        "2b8f0901624b448d8c412c370f6bd188": {
          "model_module": "@jupyter-widgets/controls",
          "model_name": "DescriptionStyleModel",
          "model_module_version": "1.5.0",
          "state": {
            "_model_module": "@jupyter-widgets/controls",
            "_model_module_version": "1.5.0",
            "_model_name": "DescriptionStyleModel",
            "_view_count": null,
            "_view_module": "@jupyter-widgets/base",
            "_view_module_version": "1.2.0",
            "_view_name": "StyleView",
            "description_width": ""
          }
        },
        "e6cb41e4ff364e3380462a921c8b1e7b": {
          "model_module": "@jupyter-widgets/base",
          "model_name": "LayoutModel",
          "model_module_version": "1.2.0",
          "state": {
            "_model_module": "@jupyter-widgets/base",
            "_model_module_version": "1.2.0",
            "_model_name": "LayoutModel",
            "_view_count": null,
            "_view_module": "@jupyter-widgets/base",
            "_view_module_version": "1.2.0",
            "_view_name": "LayoutView",
            "align_content": null,
            "align_items": null,
            "align_self": null,
            "border": null,
            "bottom": null,
            "display": null,
            "flex": null,
            "flex_flow": null,
            "grid_area": null,
            "grid_auto_columns": null,
            "grid_auto_flow": null,
            "grid_auto_rows": null,
            "grid_column": null,
            "grid_gap": null,
            "grid_row": null,
            "grid_template_areas": null,
            "grid_template_columns": null,
            "grid_template_rows": null,
            "height": null,
            "justify_content": null,
            "justify_items": null,
            "left": null,
            "margin": null,
            "max_height": null,
            "max_width": null,
            "min_height": null,
            "min_width": null,
            "object_fit": null,
            "object_position": null,
            "order": null,
            "overflow": null,
            "overflow_x": null,
            "overflow_y": null,
            "padding": null,
            "right": null,
            "top": null,
            "visibility": null,
            "width": null
          }
        },
        "9f6b96b8c9b34cb486c773c00f70f091": {
          "model_module": "@jupyter-widgets/controls",
          "model_name": "ProgressStyleModel",
          "model_module_version": "1.5.0",
          "state": {
            "_model_module": "@jupyter-widgets/controls",
            "_model_module_version": "1.5.0",
            "_model_name": "ProgressStyleModel",
            "_view_count": null,
            "_view_module": "@jupyter-widgets/base",
            "_view_module_version": "1.2.0",
            "_view_name": "StyleView",
            "bar_color": null,
            "description_width": ""
          }
        },
        "956069cb1acc44a681556a852d817e3b": {
          "model_module": "@jupyter-widgets/base",
          "model_name": "LayoutModel",
          "model_module_version": "1.2.0",
          "state": {
            "_model_module": "@jupyter-widgets/base",
            "_model_module_version": "1.2.0",
            "_model_name": "LayoutModel",
            "_view_count": null,
            "_view_module": "@jupyter-widgets/base",
            "_view_module_version": "1.2.0",
            "_view_name": "LayoutView",
            "align_content": null,
            "align_items": null,
            "align_self": null,
            "border": null,
            "bottom": null,
            "display": null,
            "flex": null,
            "flex_flow": null,
            "grid_area": null,
            "grid_auto_columns": null,
            "grid_auto_flow": null,
            "grid_auto_rows": null,
            "grid_column": null,
            "grid_gap": null,
            "grid_row": null,
            "grid_template_areas": null,
            "grid_template_columns": null,
            "grid_template_rows": null,
            "height": null,
            "justify_content": null,
            "justify_items": null,
            "left": null,
            "margin": null,
            "max_height": null,
            "max_width": null,
            "min_height": null,
            "min_width": null,
            "object_fit": null,
            "object_position": null,
            "order": null,
            "overflow": null,
            "overflow_x": null,
            "overflow_y": null,
            "padding": null,
            "right": null,
            "top": null,
            "visibility": null,
            "width": null
          }
        },
        "bcc972c7480749f88b497439e895c823": {
          "model_module": "@jupyter-widgets/controls",
          "model_name": "DescriptionStyleModel",
          "model_module_version": "1.5.0",
          "state": {
            "_model_module": "@jupyter-widgets/controls",
            "_model_module_version": "1.5.0",
            "_model_name": "DescriptionStyleModel",
            "_view_count": null,
            "_view_module": "@jupyter-widgets/base",
            "_view_module_version": "1.2.0",
            "_view_name": "StyleView",
            "description_width": ""
          }
        }
      }
    }
  },
  "cells": [
    {
      "cell_type": "markdown",
      "source": [
        "# CMPT 732 - Fall 2022\n",
        "# Cifar 10 classification\n",
        "\n",
        "__content creator:__ Aryan Mikaeili"
      ],
      "metadata": {
        "id": "_H0ClZ3YTWsF"
      }
    },
    {
      "cell_type": "markdown",
      "source": [
        "# Import libraries"
      ],
      "metadata": {
        "id": "Z1PXnVVhTgzE"
      }
    },
    {
      "cell_type": "code",
      "source": [
        "import torch\n",
        "import torch.nn as nn\n",
        "import torch.nn.functional as F\n",
        "import torch.optim as optim\n",
        "\n",
        "from torch.utils.data import Dataset, DataLoader\n",
        "\n",
        "from torchvision import transforms\n",
        "from torchvision import datasets"
      ],
      "metadata": {
        "id": "KynY2i0pTgG1"
      },
      "execution_count": null,
      "outputs": []
    },
    {
      "cell_type": "markdown",
      "source": [
        "# Download dataset"
      ],
      "metadata": {
        "id": "WUh_JPSpUbvo"
      }
    },
    {
      "cell_type": "code",
      "execution_count": null,
      "metadata": {
        "colab": {
          "base_uri": "https://localhost:8080/",
          "height": 84,
          "referenced_widgets": [
            "11021f2d4d894f38847039340b026ca9",
            "1d23947b345c45bc80ded28057eecdf4",
            "593233746e7040e0b971f971cc11be17",
            "05cff3dc710d49beacadf4e9e86ab188",
            "8d541f62b11f4372bb7da7cd976871ea",
            "f70c7f1268dd47a9bf4c758d3704b98e",
            "2b8f0901624b448d8c412c370f6bd188",
            "e6cb41e4ff364e3380462a921c8b1e7b",
            "9f6b96b8c9b34cb486c773c00f70f091",
            "956069cb1acc44a681556a852d817e3b",
            "bcc972c7480749f88b497439e895c823"
          ]
        },
        "id": "4mGb5ZPaTVV-",
        "outputId": "aa3ba98f-2e43-4e42-a700-99418c92da9d"
      },
      "outputs": [
        {
          "output_type": "stream",
          "name": "stdout",
          "text": [
            "Downloading https://www.cs.toronto.edu/~kriz/cifar-10-python.tar.gz to ./data/cifar-10-python.tar.gz\n"
          ]
        },
        {
          "output_type": "display_data",
          "data": {
            "text/plain": [
              "  0%|          | 0/170498071 [00:00<?, ?it/s]"
            ],
            "application/vnd.jupyter.widget-view+json": {
              "version_major": 2,
              "version_minor": 0,
              "model_id": "11021f2d4d894f38847039340b026ca9"
            }
          },
          "metadata": {}
        },
        {
          "output_type": "stream",
          "name": "stdout",
          "text": [
            "Extracting ./data/cifar-10-python.tar.gz to ./data\n"
          ]
        }
      ],
      "source": [
        "t = transforms.Compose([\n",
        "    transforms.ToTensor(),\n",
        "    transforms.Normalize([0.5, 0.5, 0.5], [0.5, 0.5, 0.5])\n",
        "])\n",
        "\n",
        "batch_size = 128\n",
        "trainset = datasets.CIFAR10(root='./data', train=True,\n",
        "                                        download=True, transform=t)\n",
        "\n",
        "trainloader = torch.utils.data.DataLoader(trainset, batch_size=batch_size,\n",
        "                                           shuffle=True, num_workers=0)\n",
        "\n",
        "\n"
      ]
    },
    {
      "cell_type": "code",
      "source": [
        "#plot image from dataset\n",
        "import matplotlib.pyplot as plt\n",
        "\n",
        "classes = ['Airplane', 'Automobile', 'Bird', 'Cat', 'Deer', 'Dog', 'Frog', 'Horse', 'Ship', 'Truck']\n",
        "\n",
        "sample_data = trainset.__getitem__(5)\n",
        "image, label = sample_data\n",
        "\n",
        "image = image.permute(1, 2, 0)\n",
        "image = ((image.numpy() + 1) * 127.5).astype('uint8')\n",
        "\n",
        "\n",
        "plt.imshow(image)\n",
        "plt.axis('off')\n",
        "plt.title(classes[label])\n",
        "plt.show()"
      ],
      "metadata": {
        "colab": {
          "base_uri": "https://localhost:8080/",
          "height": 264
        },
        "id": "kSeYhOSVUrT-",
        "outputId": "dffd1bd2-6950-4493-c4a3-55e25d247d85"
      },
      "execution_count": null,
      "outputs": [
        {
          "output_type": "display_data",
          "data": {
            "text/plain": [
              "<Figure size 432x288 with 1 Axes>"
            ],
            "image/png": "[encoded data removed]"
          },
          "metadata": {
            "needs_background": "light"
          }
        }
      ]
    },
    {
      "cell_type": "markdown",
      "source": [
        "# Define Model"
      ],
      "metadata": {
        "id": "dNdiZuqZWPDj"
      }
    },
    {
      "cell_type": "code",
      "source": [
        "class BasicBlock(nn.Module):\n",
        "  def __init__(self, in_channels, out_channels):\n",
        "    super(BasicBlock, self).__init__()\n",
        "    self.layers = nn.Sequential(\n",
        "        nn.Conv2d(in_channels = in_channels, out_channels = out_channels, kernel_size=5),\n",
        "        nn.ReLU(),\n",
        "        nn.MaxPool2d(kernel_size = 2))\n",
        "  def forward(self, x):\n",
        "    return self.layers(x)\n",
        "class Classifier(nn.Module):\n",
        "  def __init__(self):\n",
        "    super(Classifier, self).__init__()\n",
        "    self.block1 = BasicBlock(3, 16)\n",
        "    self.block2 = BasicBlock(16, 16)\n",
        "\n",
        "    self.linear_layers = nn.Sequential(\n",
        "        nn.Linear(in_features = 5 * 5 * 16, out_features = 128, bias = True),\n",
        "        nn.ReLU(),\n",
        "        nn.Linear(in_features = 128, out_features = 64, bias = True),\n",
        "        nn.ReLU(),\n",
        "        nn.Linear(in_features = 64, out_features = 10, bias = True)\n",
        "    )\n",
        "  def forward(self, x):\n",
        "    out = self.block1(x)\n",
        "    out = self.block2(out)\n",
        "\n",
        "    out = out.reshape(-1, 5 * 5 * 16)\n",
        "\n",
        "    out = self.linear_layers(out)\n",
        "\n",
        "    return out\n",
        "\n",
        "\n",
        "\n",
        "\n"
      ],
      "metadata": {
        "id": "GoOfZ9WNWNqt"
      },
      "execution_count": null,
      "outputs": []
    },
    {
      "cell_type": "markdown",
      "source": [
        "# Optimization loop"
      ],
      "metadata": {
        "id": "4r0GS6WIZid2"
      }
    },
    {
      "cell_type": "code",
      "source": [
        "nepochs = 10\n",
        "learning_rate = 1e-3\n",
        "device = torch.device('cuda')\n",
        "#define model\n",
        "model = Classifier().to(device)\n",
        "\n",
        "#define optimizer\n",
        "optimizer = optim.Adam(model.parameters(), lr = learning_rate)\n",
        "\n",
        "\n",
        "#define loss\n",
        "loss_function = nn.CrossEntropyLoss()\n",
        "\n",
        "#optimization loop\n",
        "for epoch in range(nepochs):\n",
        "  total_loss = 0.\n",
        "  for i, data in enumerate(trainloader):\n",
        "    images, labels = data\n",
        "    images = images.to(device)\n",
        "    labels = labels.to(device)\n",
        "    \n",
        "    predictions = model(images)\n",
        "    loss = loss_function(predictions, labels)\n",
        "    total_loss += loss\n",
        "    optimizer.zero_grad()\n",
        "    loss.backward()\n",
        "    optimizer.step()\n",
        "\n",
        "  print('epoch {}/{}: loss = {:.4f}'.format(epoch, nepochs, total_loss))\n",
        "  total_loss = 0"
      ],
      "metadata": {
        "colab": {
          "base_uri": "https://localhost:8080/"
        },
        "id": "KoH4gP__Zhzw",
        "outputId": "8d5ac4d3-fd22-4bcf-aeb7-edb3f6189c1e"
      },
      "execution_count": null,
      "outputs": [
        {
          "output_type": "stream",
          "name": "stdout",
          "text": [
            "epoch 0/10: loss = 659.8333\n",
            "epoch 1/10: loss = 525.9979\n",
            "epoch 2/10: loss = 473.6058\n",
            "epoch 3/10: loss = 438.3493\n",
            "epoch 4/10: loss = 412.4996\n",
            "epoch 5/10: loss = 388.9697\n",
            "epoch 6/10: loss = 373.5695\n",
            "epoch 7/10: loss = 356.9695\n",
            "epoch 8/10: loss = 341.4657\n",
            "epoch 9/10: loss = 330.0541\n"
          ]
        }
      ]
    },
    {
      "cell_type": "markdown",
      "source": [
        "# Test model"
      ],
      "metadata": {
        "id": "gsP7mX8ecxvt"
      }
    },
    {
      "cell_type": "code",
      "source": [
        "testset = datasets.CIFAR10(root='./data', train=False,\n",
        "                                        download=True, transform=t)\n",
        "\n",
        "testloader = torch.utils.data.DataLoader(testset, batch_size=batch_size,\n",
        "                                           shuffle=False, num_workers=0)\n",
        "\n",
        "\n",
        "true_count = 0\n",
        "for i, data in enumerate(testloader):\n",
        "  images, labels = data\n",
        "  images = images.to(device)\n",
        "  labels = labels.to(device)\n",
        "  \n",
        "  predictions = model(images)\n",
        "  prediction_labels = predictions.argmax(dim = 1)\n",
        "  true_count += (prediction_labels == labels).sum().item()\n",
        "\n",
        "print('Accuracy = {:.4f}'.format(true_count / testset.__len__()))\n"
      ],
      "metadata": {
        "colab": {
          "base_uri": "https://localhost:8080/"
        },
        "id": "9DGZudabcwJV",
        "outputId": "a376797f-10d7-4762-b914-a84e33f5a0c8"
      },
      "execution_count": null,
      "outputs": [
        {
          "output_type": "stream",
          "name": "stdout",
          "text": [
            "Files already downloaded and verified\n",
            "Accuracy = 0.6626\n"
          ]
        }
      ]
    },
    {
      "cell_type": "code",
      "source": [
        "from matplotlib.cbook import safezip\n",
        "#plot sample\n",
        "\n",
        "sample_data = testset.__getitem__(196)\n",
        "image, label = sample_data\n",
        "image = image.to(device).unsqueeze(0)\n",
        "\n",
        "pred = model(image).argmax(dim = 1).item()\n",
        "\n",
        "image = image.squeeze(0).permute(1, 2, 0).cpu()\n",
        "image = ((image.numpy() + 1) * 127.5).astype('uint8')\n",
        "\n",
        "plt.imshow(image)\n",
        "plt.axis('off')\n",
        "plt.title('True label: {} ---- Prediction: {}'.format(classes[label], classes[pred]))\n",
        "plt.show()"
      ],
      "metadata": {
        "colab": {
          "base_uri": "https://localhost:8080/",
          "height": 264
        },
        "id": "lDEHjYLndx35",
        "outputId": "74f30f86-c53d-481b-9b85-83e59a0aa666"
      },
      "execution_count": null,
      "outputs": [
        {
          "output_type": "display_data",
          "data": {
            "text/plain": [
              "<Figure size 432x288 with 1 Axes>"
            ],
            "image/png": "[encoded data removed]"
          },
          "metadata": {
            "needs_background": "light"
          }
        }
      ]
    }
  ]
}
{
  "nbformat": 4,
  "nbformat_minor": 0,
  "metadata": {
    "colab": {
      "provenance": [],
      "collapsed_sections": []
    },
    "kernelspec": {
      "name": "python3",
      "display_name": "Python 3"
    },
    "language_info": {
      "name": "python"
    }
  },
  "cells": [
    {
      "cell_type": "markdown",
      "source": [
        "# Import libraries"
      ],
      "metadata": {
        "id": "Z1PXnVVhTgzE"
      }
    },
    {
      "cell_type": "code",
      "source": [
        "import torch\n",
        "import torch.nn as nn\n",
        "import torch.nn.functional as F\n",
        "import torch.optim as optim\n",
        "\n",
        "from torch.utils.data import Dataset, DataLoader\n",
        "\n",
        "from torchvision import transforms\n",
        "from torchvision import datasets"
      ],
      "metadata": {
        "id": "KynY2i0pTgG1"
      },
      "execution_count": null,
      "outputs": []
    },
    {
      "cell_type": "markdown",
      "source": [
        "# Download dataset"
      ],
      "metadata": {
        "id": "WUh_JPSpUbvo"
      }
    },
    {
      "cell_type": "code",
      "execution_count": null,
      "metadata": {
        "id": "4mGb5ZPaTVV-"
      },
      "outputs": [],
      "source": [
        "t = transforms.Compose([\n",
        "    transforms.ToTensor(),\n",
        "    transforms.Normalize([0.5, 0.5, 0.5], [0.5, 0.5, 0.5])\n",
        "])\n",
        "\n",
        "batch_size = 128\n",
        "trainset = datasets.CIFAR10(root='./data', train=True,\n",
        "                                        download=True, transform=t)\n",
        "\n",
        "trainloader = torch.utils.data.DataLoader(trainset, batch_size=batch_size,\n",
        "                                           shuffle=True, num_workers=0)\n",
        "\n",
        "\n"
      ]
    },
    {
      "cell_type": "code",
      "source": [
        "#plot image from dataset\n",
        "import matplotlib.pyplot as plt\n",
        "\n",
        "classes = ['Airplane', 'Automobile', 'Bird', 'Cat', 'Deer', 'Dog', 'Frog', 'Horse', 'Ship', 'Truck']\n",
        "\n",
        "sample_data = trainset.__getitem__(5)\n",
        "image, label = sample_data\n",
        "\n",
        "image = image.permute(1, 2, 0)\n",
        "image = ((image.numpy() + 1) * 127.5).astype('uint8')\n",
        "\n",
        "\n",
        "plt.imshow(image)\n",
        "plt.axis('off')\n",
        "plt.title(classes[label])\n",
        "plt.show()"
      ],
      "metadata": {
        "id": "kSeYhOSVUrT-"
      },
      "execution_count": null,
      "outputs": []
    },
    {
      "cell_type": "markdown",
      "source": [
        "# Define Model"
      ],
      "metadata": {
        "id": "dNdiZuqZWPDj"
      }
    },
    {
      "cell_type": "code",
      "source": [
        "class BasicBlock(nn.Module):\n",
        "  def __init__(self, in_channels, out_channels):\n",
        "    super(BasicBlock, self).__init__()\n",
        "    raise NotImplementedError\n",
        "  def forward(self, x):\n",
        "    raise NotImplementedError\n",
        "\n",
        "class Classifier(nn.Module):\n",
        "  def __init__(self):\n",
        "    super(Classifier, self).__init__()\n",
        "    raise NotImplementedError\n",
        "  def forward(self, x):\n",
        "    raise NotImplementedError\n",
        "\n",
        "\n"
      ],
      "metadata": {
        "id": "GoOfZ9WNWNqt"
      },
      "execution_count": null,
      "outputs": []
    },
    {
      "cell_type": "markdown",
      "source": [
        "# Optimization loop"
      ],
      "metadata": {
        "id": "4r0GS6WIZid2"
      }
    },
    {
      "cell_type": "code",
      "source": [
        "#hyper parameters\n",
        "nepochs = 10\n",
        "learning_rate = 1e-3\n",
        "device = torch.device('cuda')\n",
        "\n",
        "#define model and transfer to GPU\n",
        "model = ...\n",
        "\n",
        "#define optimizer\n",
        "optimizer = ...\n",
        "\n",
        "#define loss\n",
        "loss_function = ...\n",
        "\n",
        "#optimization loop\n",
        "for epoch in range(nepochs):\n",
        "  total_loss = 0.\n",
        "  for i, data in enumerate(trainloader):\n",
        "    images, labels = data\n",
        "    images = images.to(device)\n",
        "    labels = labels.to(device)\n",
        "    \n",
        "    predictions = model(images)\n",
        "    loss = loss_function(predictions, labels)\n",
        "    total_loss += loss\n",
        "    optimizer.zero_grad()\n",
        "    loss.backward()\n",
        "    optimizer.step()\n",
        "\n",
        "  print('epoch {}/{}: loss = {:.4f}'.format(epoch, nepochs, total_loss))\n",
        "  total_loss = 0"
      ],
      "metadata": {
        "id": "KoH4gP__Zhzw"
      },
      "execution_count": null,
      "outputs": []
    }
  ]
}
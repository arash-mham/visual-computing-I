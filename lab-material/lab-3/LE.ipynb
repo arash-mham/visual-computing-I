{
  "nbformat": 4,
  "nbformat_minor": 0,
  "metadata": {
    "colab": {
      "provenance": [],
      "collapsed_sections": []
    },
    "kernelspec": {
      "name": "python3",
      "display_name": "Python 3"
    },
    "language_info": {
      "name": "python"
    }
  },
  "cells": [
    {
      "cell_type": "markdown",
      "metadata": {
        "id": "UiSef_byMrff"
      },
      "source": [
        "<a href=\"https://colab.research.google.com/github/aryanmikaeili/cmpt732_material/blob/master/python.ipynb\" target=\"_parent\"><img src=\"https://colab.research.google.com/assets/colab-badge.svg\" alt=\"Open In Colab\"/></a>"
      ]
    },
    {
      "cell_type": "markdown",
      "metadata": {
        "id": "XKTm4A8M7w4a"
      },
      "source": [
        "# CMPT 732 - Fall 2022\n",
        "# Soving systems of linear equations\n",
        "\n",
        "__content creator:__ Aryan Mikaeili"
      ]
    },
    {
      "cell_type": "code",
      "source": [
        "#@title Import modules\n",
        "\n",
        "import numpy as np\n",
        "import matplotlib.pyplot as plt\n",
        "from PIL import Image\n",
        "%matplotlib inline\n",
        "plt.style.use(\"https://raw.githubusercontent.com/NeuromatchAcademy/course-content/master/nma.mplstyle\")\n",
        "\n",
        "import requests\n",
        "import shutil\n",
        "\n",
        "import cv2\n",
        "from scipy.sparse import csr_matrix"
      ],
      "metadata": {
        "id": "Tnt1W_j1HIiT"
      },
      "execution_count": 3,
      "outputs": []
    },
    {
      "cell_type": "markdown",
      "source": [
        "## Practice 1\n",
        "\n",
        "Solve the linear equation in the slides. To complete this practice you should:\n",
        "\n",
        "1. form matrix $A$\n",
        "2. form vector $b$\n",
        "3. solve the equation using numpy"
      ],
      "metadata": {
        "id": "WofSflj6KZN6"
      }
    },
    {
      "cell_type": "code",
      "source": [
        "##form matrix A\n",
        "\n",
        "A = ...\n",
        "\n",
        "##form vector b\n",
        "\n",
        "b = ...\n",
        "\n",
        "##solve the linear equation\n",
        "\n",
        "x = ...\n",
        "print(x)"
      ],
      "metadata": {
        "colab": {
          "base_uri": "https://localhost:8080/"
        },
        "id": "w4oaGQftHLqv",
        "outputId": "8c7166e6-62a9-4e4d-f787-7a11373448c4"
      },
      "execution_count": 2,
      "outputs": [
        {
          "output_type": "stream",
          "name": "stdout",
          "text": [
            "Ellipsis\n"
          ]
        }
      ]
    },
    {
      "cell_type": "code",
      "source": [
        "#@title Solution\n",
        "\n",
        "##form matrix A\n",
        "A = np.array([[0, 0, 0, 1, 1, 0], [0, 0, 0, 0, 1, 1], [1, 0, 0, 0, 0, 1], [1, 1, 0, 0, 0, 0], [0, 1, 1, 0, 0, 0], [0, 0, 1, -1, 0, 0]])\n",
        "\n",
        "##form vector b\n",
        "b = np.array([3, 5, 7, 9, 11, 5])\n",
        "\n",
        "##solve the linear equation\n",
        "\n",
        "x = np.linalg.pinv(A) @ b\n",
        "print('answer is: ', x)\n",
        "print('error is: {:.4f}'.format(np.linalg.norm(A@x - b)))\n"
      ],
      "metadata": {
        "cellView": "form",
        "id": "Xf35avZwHetL"
      },
      "execution_count": null,
      "outputs": []
    },
    {
      "cell_type": "markdown",
      "source": [
        "## Practice 2\n",
        "\n",
        "Solve the linear equation in the slides. To complete this practice you should:\n",
        "\n",
        "1. form matrix $A$\n",
        "2. form vector $b$\n",
        "3. solve the equation using numpy"
      ],
      "metadata": {
        "id": "MRc9An5PMthB"
      }
    },
    {
      "cell_type": "code",
      "source": [
        "##form matrix A\n",
        "\n",
        "A = ...\n",
        "\n",
        "##form vector b\n",
        "\n",
        "b = ...\n",
        "\n",
        "##solve the linear equation\n",
        "\n",
        "x = ...\n",
        "print(x)"
      ],
      "metadata": {
        "id": "DWcxsbxgMthC"
      },
      "execution_count": null,
      "outputs": []
    },
    {
      "cell_type": "code",
      "source": [
        "#@title Solution\n",
        "\n",
        "##form matrix A\n",
        "A = np.array([[1, 1], [3, -2], [4, -1]])\n",
        "\n",
        "##form vector b\n",
        "b = np.array([2, 1, 7])\n",
        "\n",
        "##solve the linear equation\n",
        "\n",
        "x = np.linalg.pinv(A) @ b\n",
        "print('answer is: ', x)\n",
        "print('error is: {:.4f}'.format(np.linalg.norm(A@x - b)))\n"
      ],
      "metadata": {
        "cellView": "form",
        "id": "dqGbrvZkMthC"
      },
      "execution_count": null,
      "outputs": []
    },
    {
      "cell_type": "code",
      "source": [
        "#@title Reconstructing curves from gradients\n",
        "\n",
        "#define curve\n",
        "x = np.arange(0, 100)\n",
        "y = np.sin(x * x / 500)\n",
        "\n",
        "#plot curve\n",
        "plt.plot(x, y)\n",
        "plt.show()"
      ],
      "metadata": {
        "cellView": "form",
        "id": "0CJi1DNpN5Q6"
      },
      "execution_count": null,
      "outputs": []
    },
    {
      "cell_type": "code",
      "source": [
        "#@title define gradients\n",
        "#define gradients:\n",
        "\n",
        "dy = y[1:] - y[:-1]\n",
        "print(dy.shape)\n",
        "\n",
        "#plot gradients\n",
        "plt.plot(x[:-1], dy)\n",
        "plt.show()"
      ],
      "metadata": {
        "cellView": "form",
        "id": "65AzkNmrOjqe"
      },
      "execution_count": null,
      "outputs": []
    },
    {
      "cell_type": "code",
      "source": [
        "#@title define and solve system of linear equations\n",
        "\n",
        "#define A\n",
        "A = np.zeros((100, 100))\n",
        "for i in range(99):\n",
        "  A[i, i:i+2] = [-1, 1]\n",
        "\n",
        "#Add one constraint\n",
        "A[-1, 0] = 1\n",
        "\n",
        "#b is dy + one constraint\n",
        "b = np.concatenate([dy, [0]])\n",
        "\n",
        "#solve equation\n",
        "\n",
        "y_hat = np.linalg.pinv(A) @ b\n",
        "\n",
        "\n",
        "#print error\n",
        "print('error = {:.4f}'.format(np.linalg.norm(y_hat - y)))\n",
        "#plot y_hat\n",
        "plt.plot(x, y_hat)\n",
        "plt.show()"
      ],
      "metadata": {
        "cellView": "form",
        "id": "wKj628Z4PLVd"
      },
      "execution_count": null,
      "outputs": []
    },
    {
      "cell_type": "markdown",
      "source": [
        "## Image reconstruction from gradient domain\n",
        "\n",
        "Similar to what we did with the 1-dimensional curve, we can also reconstruct an image from  its gradient domain. Assume that you have an $H\\times W$ image that you want to reconstruct and what you have are its gradients in the $x$ and $y$ directions. We know that:\n",
        "\n",
        "$$g_x(i, j) = p(i, j + 1) - p(i, j)$$\n",
        "$$g_y(i, j) = p(i + 1, j) - p(i, j)$$\n",
        "\n",
        "where $g_x(i, j)$ and $g_y(i, j)$ are gradients of the image in the $x$ and $y$ direction in pixel $(i, j)$. You can additionally add a contorl point to adjust brightness.\n",
        "\n",
        "Naturally, whith the equations above, you can form a system of linear equations. In this system we will have $2(H - 1)(W - 1) + 1$ equations and $HW$ variables(Why?). Matrix $A$ will have shape $2(H - 1)(W - 1) + 1 \\times HW$ and $x$ and $b$ will be $HW \\times 1$ vectors.\n"
      ],
      "metadata": {
        "id": "U_NEAp4ZSrbC"
      }
    },
    {
      "cell_type": "code",
      "source": [
        "#@title Run cell to download\n",
        "response = requests.get(\"https://e2.365dm.com/08/10/800x600/PaoloMaldini_1369005.jpg?20081023161130\", stream=True)\n",
        "with open('maldini.jpg', 'wb') as f:\n",
        "  shutil.copyfileobj(response.raw, f)\n",
        "\n",
        "image = Image.open('maldini.jpg').convert('L')\n",
        "image = image.crop((150, 100, 400 ,400))\n",
        "image = image.resize((50, 50))\n",
        "image = np.array(image).astype('int')\n",
        "\n",
        "plt.axis('off')\n",
        "plt.imshow(image, cmap = 'gray')\n",
        "plt.show()"
      ],
      "metadata": {
        "cellView": "form",
        "id": "nvWqqn1gVdOY"
      },
      "execution_count": null,
      "outputs": []
    },
    {
      "cell_type": "code",
      "source": [
        "##form matrix A and vector b\n",
        "H, W = image.shape\n",
        "\n",
        "A = np.zeros((2 * (H - 1) * (W - 1), H * W))\n",
        "b = np.zeros(2 * (H - 1) * (W - 1))\n",
        "\n",
        "##write your code here\n",
        "...\n",
        "\n",
        "##Add constraint that controls brightness\n",
        "...\n",
        "\n",
        "##solve system of equations\n",
        "image_hat = ...\n",
        "\n",
        "##plot image\n",
        "image_hat = image_hat.reshape(50, 50)\n",
        "plt.axis('off')\n",
        "plt.imshow(image_hat, cmap = 'gray')\n",
        "plt.show()"
      ],
      "metadata": {
        "id": "2nXVaO2eoHBq"
      },
      "execution_count": null,
      "outputs": []
    },
    {
      "cell_type": "code",
      "source": [
        "#@title Solution\n",
        "\n",
        "##form matrix A and vector b\n",
        "H, W = image.shape\n",
        "\n",
        "A = np.zeros((2 * (H - 1) * (W - 1), H * W))\n",
        "b = np.zeros(2 * (H - 1) * (W - 1))\n",
        "\n",
        "\n",
        "counter = 0\n",
        "for i in range(H - 1):\n",
        "  for j in range(W - 1):\n",
        "    A[counter,  i * W + j] = -1\n",
        "    A[counter,  i * W + j + 1] = 1\n",
        "    A[counter + 1, i * W + j] = -1\n",
        "    A[counter + 1, (i + 1) * W + j] = 1\n",
        "    b[counter] = image[i, j + 1] - image[i, j]\n",
        "    b[counter + 1] = image[i + 1, j] - image[i, j]\n",
        "\n",
        "    counter += 2\n",
        "\n",
        "\n",
        "##Add constraint that controls brightness\n",
        "const = np.zeros(H * W)\n",
        "const[0] = 1\n",
        "\n",
        "A = np.row_stack([A, const])\n",
        "b = np.concatenate([b, [25]])\n",
        "    \n",
        "##solve system of equations\n",
        "image_hat = np.linalg.pinv(A) @ b\n",
        "\n",
        "##plot image\n",
        "image_hat = image_hat.reshape(50, 50)\n",
        "plt.axis('off')\n",
        "plt.imshow(image_hat, cmap = 'gray')\n",
        "plt.show()"
      ],
      "metadata": {
        "cellView": "form",
        "id": "N8vN_WmIYjc7"
      },
      "execution_count": null,
      "outputs": []
    }
  ]
}
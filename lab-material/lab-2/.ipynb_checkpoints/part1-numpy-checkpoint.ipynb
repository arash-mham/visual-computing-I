{
 "cells": [
  {
   "cell_type": "markdown",
   "metadata": {
    "id": "UiSef_byMrff"
   },
   "source": [
    "<a href=\"https://colab.research.google.com/github/aryanmikaeili/cmpt732_material/blob/master/python.ipynb\" target=\"_parent\"><img src=\"https://colab.research.google.com/assets/colab-badge.svg\" alt=\"Open In Colab\"/></a>"
   ]
  },
  {
   "cell_type": "markdown",
   "metadata": {
    "id": "XKTm4A8M7w4a"
   },
   "source": [
    "# CMPT 732 - Fall 2022\n",
    "# Numpy Introduction\n",
    "\n",
    "__content creator:__ Mehdi Safaee"
   ]
  },
  {
   "cell_type": "markdown",
   "metadata": {
    "id": "upBHCy5RLQk2",
    "tags": []
   },
   "source": [
    "## Section 1: Lists vs Arrays, creating arrays, types, shapes, ones, zeros"
   ]
  },
  {
   "cell_type": "code",
   "execution_count": 1,
   "metadata": {},
   "outputs": [
    {
     "name": "stdout",
     "output_type": "stream",
     "text": [
      "<class 'list'>\n",
      "<class 'numpy.ndarray'>\n"
     ]
    }
   ],
   "source": [
    "my_list = [1,2,3,4,5, \"mehdi\"]\n",
    "import numpy as np\n",
    "my_array = np.array([1,2,3,4,5])\n",
    "print(type(my_list))\n",
    "print(type(my_array))"
   ]
  },
  {
   "cell_type": "code",
   "execution_count": 2,
   "metadata": {},
   "outputs": [
    {
     "name": "stdout",
     "output_type": "stream",
     "text": [
      "['1' '2' '3' '4' '5' 'mehdi']\n"
     ]
    }
   ],
   "source": [
    "my_list = [1,2,3,4,5, \"mehdi\"]\n",
    "my_array = np.array(my_list)\n",
    "print(my_array)"
   ]
  },
  {
   "cell_type": "markdown",
   "metadata": {},
   "source": [
    "As you can see, the results are casted to string. \n",
    "All the elements in a numpy array should have the same dtype.\n",
    "You can't have a numpy array consisting of objects with various dtypes (unlike lists)."
   ]
  },
  {
   "cell_type": "code",
   "execution_count": 3,
   "metadata": {},
   "outputs": [
    {
     "name": "stdout",
     "output_type": "stream",
     "text": [
      "1.27 ms ± 30.6 µs per loop (mean ± std. dev. of 7 runs, 1,000 loops each)\n"
     ]
    }
   ],
   "source": [
    "list_1 = 10000*[0.5]\n",
    "list_2 = 10000*[0.2]\n",
    "\n",
    "def list_add(list_1, list_2):\n",
    "    new_list = []\n",
    "    for i in range(len(list_1)):\n",
    "        new_list.append(list_1[i]+list_2[i])\n",
    "    return new_list\n",
    "    \n",
    "%timeit list_add(list_1, list_2)"
   ]
  },
  {
   "cell_type": "code",
   "execution_count": 4,
   "metadata": {},
   "outputs": [
    {
     "name": "stdout",
     "output_type": "stream",
     "text": [
      "0.7\n"
     ]
    }
   ],
   "source": [
    "import numpy as np\n",
    "arr_1 = np.array(list_1)\n",
    "arr_2 = np.array(list_2)\n",
    "\n",
    "new_arr = arr_1 + arr_2\n",
    "print(new_arr[0])"
   ]
  },
  {
   "cell_type": "code",
   "execution_count": 5,
   "metadata": {},
   "outputs": [
    {
     "name": "stdout",
     "output_type": "stream",
     "text": [
      "4.94 µs ± 157 ns per loop (mean ± std. dev. of 7 runs, 100,000 loops each)\n"
     ]
    }
   ],
   "source": [
    "%timeit arr_1 + arr_2"
   ]
  },
  {
   "cell_type": "code",
   "execution_count": 6,
   "metadata": {},
   "outputs": [
    {
     "name": "stdout",
     "output_type": "stream",
     "text": [
      "float32\n"
     ]
    }
   ],
   "source": [
    "arr_1 = np.array([1,2,3,4,5], dtype=np.float32)\n",
    "arr_2 = np.array([0.5,0.5,0.5,0.5,0.5], dtype=np.float32)\n",
    "new_arr = arr_1 + arr_2\n",
    "print(new_arr.dtype)"
   ]
  },
  {
   "cell_type": "code",
   "execution_count": 7,
   "metadata": {},
   "outputs": [
    {
     "name": "stdout",
     "output_type": "stream",
     "text": [
      "(5, 5)\n"
     ]
    }
   ],
   "source": [
    "new_arr = np.ones((5,5))\n",
    "print(new_arr.shape)"
   ]
  },
  {
   "cell_type": "markdown",
   "metadata": {
    "tags": []
   },
   "source": [
    "## Section 2: Transpose, reshaping, copy, view, slicing"
   ]
  },
  {
   "cell_type": "code",
   "execution_count": 8,
   "metadata": {},
   "outputs": [
    {
     "name": "stdout",
     "output_type": "stream",
     "text": [
      "[[1 2 3]\n",
      " [4 5 6]\n",
      " [7 8 9]]\n"
     ]
    }
   ],
   "source": [
    "my_matrix = np.array([[1,2,3],[4,5,6],[7,8,9]])\n",
    "print(my_matrix)\n"
   ]
  },
  {
   "cell_type": "code",
   "execution_count": 9,
   "metadata": {},
   "outputs": [
    {
     "name": "stdout",
     "output_type": "stream",
     "text": [
      "[[1 4 7]\n",
      " [2 5 8]\n",
      " [3 6 9]]\n"
     ]
    }
   ],
   "source": [
    "print(np.transpose(my_matrix))"
   ]
  },
  {
   "cell_type": "code",
   "execution_count": 10,
   "metadata": {},
   "outputs": [
    {
     "name": "stdout",
     "output_type": "stream",
     "text": [
      "[[1 2 3 4 5 6 7 8 9]]\n"
     ]
    }
   ],
   "source": [
    "print(np.reshape(my_matrix, (1,9)))"
   ]
  },
  {
   "cell_type": "code",
   "execution_count": 11,
   "metadata": {},
   "outputs": [
    {
     "name": "stdout",
     "output_type": "stream",
     "text": [
      "[[1 2 3]\n",
      " [4 5 6]\n",
      " [7 8 9]]\n"
     ]
    }
   ],
   "source": [
    "my_matrix = np.array([[1,2,3],[4,5,6],[7,8,9]])\n",
    "new_matrix = my_matrix.view()\n",
    "my_matrix = np.array([[0,0,0],[4,5,6],[7,8,9]])\n",
    "print(new_matrix)"
   ]
  },
  {
   "cell_type": "code",
   "execution_count": 12,
   "metadata": {},
   "outputs": [
    {
     "name": "stdout",
     "output_type": "stream",
     "text": [
      "[[2 4]\n",
      " [5 4]\n",
      " [8 4]\n",
      " [4 6]]\n"
     ]
    }
   ],
   "source": [
    "my_matrix = np.array([[1,2,3,4],[4,5,6,4],[7,8,9,4],[3,4,5,6]])\n",
    "print(my_matrix[:, [1,3]])"
   ]
  },
  {
   "cell_type": "markdown",
   "metadata": {},
   "source": [
    "## Section 3: Random, arithmetics, logical"
   ]
  },
  {
   "cell_type": "code",
   "execution_count": 13,
   "metadata": {},
   "outputs": [
    {
     "name": "stdout",
     "output_type": "stream",
     "text": [
      "[[ 0.62954645 -1.19485691  0.90091903 -0.81977906 -0.87179198]\n",
      " [ 0.12717031  1.63361003 -0.66489748 -0.2997671   0.61819952]\n",
      " [ 0.71343299 -0.36556554  0.24647491 -0.36730972  1.38192523]\n",
      " [-1.12720919  0.59699881 -0.62629164 -1.25909307 -0.7349408 ]\n",
      " [ 0.38921326  2.14804576  0.20947835 -0.74110764 -1.22466162]]\n"
     ]
    }
   ],
   "source": [
    "random_arr = np.random.randn(5,5)\n",
    "print(random_arr)"
   ]
  },
  {
   "cell_type": "code",
   "execution_count": 14,
   "metadata": {},
   "outputs": [
    {
     "name": "stdout",
     "output_type": "stream",
     "text": [
      "[[1 0 1 0 0]\n",
      " [1 0 0 0 1]\n",
      " [1 0 1 0 0]\n",
      " [0 1 0 0 0]\n",
      " [1 0 1 0 0]]\n"
     ]
    }
   ],
   "source": [
    "bool_arr_1 = random_arr>0\n",
    "bool_arr_2 = random_arr<1\n",
    "print((bool_arr_1 & bool_arr_2).astype(np.uint8))"
   ]
  },
  {
   "cell_type": "code",
   "execution_count": 15,
   "metadata": {},
   "outputs": [
    {
     "name": "stdout",
     "output_type": "stream",
     "text": [
      "[[ 1.52429816  3.24148869 -0.12545314 -0.10052857  2.37529341]\n",
      " [ 0.38796161  1.1524463   0.42414721  0.58520151 -0.73376356]\n",
      " [ 0.37114041  1.18495028  1.87071356  1.22314127 -0.38008177]\n",
      " [-1.07310737 -0.7289478   1.9460207   2.01368087  3.58468058]\n",
      " [-0.62371769 -0.0372534   1.55975759 -1.15768108 -2.70071631]]\n"
     ]
    }
   ],
   "source": [
    "arr_1 = np.random.randn(5,5)\n",
    "arr_2 = np.random.randn(5,5)\n",
    "\n",
    "print(arr_1 + arr_2)\n"
   ]
  },
  {
   "cell_type": "markdown",
   "metadata": {},
   "source": [
    "## Section 4: Mathmul, determinant, norm, statistics"
   ]
  },
  {
   "cell_type": "code",
   "execution_count": 16,
   "metadata": {},
   "outputs": [
    {
     "name": "stdout",
     "output_type": "stream",
     "text": [
      "(5, 5)\n"
     ]
    }
   ],
   "source": [
    "matrix_1 = np.random.rand(5,5)\n",
    "matrix_2 = np.random.rand(5,5)\n",
    "\n",
    "new_matrix = matrix_1 @ matrix_2\n",
    "print(new_matrix.shape)\n"
   ]
  },
  {
   "cell_type": "code",
   "execution_count": 17,
   "metadata": {},
   "outputs": [
    {
     "name": "stdout",
     "output_type": "stream",
     "text": [
      "0.000767140045645847\n"
     ]
    }
   ],
   "source": [
    "print(np.linalg.det(new_matrix))"
   ]
  },
  {
   "cell_type": "code",
   "execution_count": 18,
   "metadata": {},
   "outputs": [
    {
     "name": "stdout",
     "output_type": "stream",
     "text": [
      "1.7591519568770346\n"
     ]
    }
   ],
   "source": [
    "print(np.mean(new_matrix))"
   ]
  },
  {
   "cell_type": "code",
   "execution_count": 19,
   "metadata": {},
   "outputs": [
    {
     "name": "stdout",
     "output_type": "stream",
     "text": [
      "2.9529034438770188\n"
     ]
    }
   ],
   "source": [
    "print(np.max(new_matrix))"
   ]
  },
  {
   "cell_type": "code",
   "execution_count": 20,
   "metadata": {},
   "outputs": [
    {
     "name": "stdout",
     "output_type": "stream",
     "text": [
      "0.46440351507821787\n"
     ]
    }
   ],
   "source": [
    "print(np.min(new_matrix))"
   ]
  },
  {
   "cell_type": "code",
   "execution_count": 21,
   "metadata": {},
   "outputs": [
    {
     "name": "stdout",
     "output_type": "stream",
     "text": [
      "[[1.05060676 1.14828186 1.30891549 1.03798355 1.41428874]\n",
      " [1.12051522 1.5476305  1.4358152  1.40980618 1.65751826]\n",
      " [0.68147158 1.2002135  0.98787606 1.02519882 1.0992566 ]\n",
      " [1.07186412 1.4663987  1.44772886 1.2812188  1.50271339]\n",
      " [1.18186237 1.67863975 1.59772351 1.47075433 1.71840142]]\n"
     ]
    }
   ],
   "source": [
    "print(np.sqrt(new_matrix))"
   ]
  },
  {
   "cell_type": "code",
   "execution_count": 22,
   "metadata": {},
   "outputs": [],
   "source": [
    "my_norm = np.sqrt(np.sum((new_matrix**2)))"
   ]
  },
  {
   "cell_type": "code",
   "execution_count": 23,
   "metadata": {},
   "outputs": [
    {
     "data": {
      "text/plain": [
       "9.373381756479622"
      ]
     },
     "execution_count": 23,
     "metadata": {},
     "output_type": "execute_result"
    }
   ],
   "source": [
    "my_norm"
   ]
  }
 ],
 "metadata": {
  "colab": {
   "collapsed_sections": [],
   "provenance": [],
   "toc_visible": true
  },
  "kernelspec": {
   "display_name": "Python 3 (ipykernel)",
   "language": "python",
   "name": "python3"
  },
  "language_info": {
   "codemirror_mode": {
    "name": "ipython",
    "version": 3
   },
   "file_extension": ".py",
   "mimetype": "text/x-python",
   "name": "python",
   "nbconvert_exporter": "python",
   "pygments_lexer": "ipython3",
   "version": "3.9.2"
  },
  "vscode": {
   "interpreter": {
    "hash": "1dfc6c5f18e20c3baae30f316ef3d209f84c591d6b5d394d223107794bc15871"
   }
  }
 },
 "nbformat": 4,
 "nbformat_minor": 4
}
